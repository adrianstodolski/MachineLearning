{
 "cells": [
  {
   "cell_type": "code",
   "execution_count": 31,
   "id": "reduced-cambodia",
   "metadata": {},
   "outputs": [],
   "source": [
    "# Dataset:\n",
    "x = [10, 8, 13, 9, 11, 14, 6, 4, 12, 7, 5]\n",
    "y1 = [8.04, 6.95, 7.58, 8.81, 8.33, 9.96, 7.24, 4.26, 10.84, 4.82, 5.68]\n",
    "y2 = [9.14, 8.14, 8.74, 8.77, 9.26, 8.10, 6.13, 3.10, 9.13, 7.26, 4.74]\n",
    "y3 = [7.46, 6.77, 12.74, 7.11, 7.81, 8.84, 6.08, 5.39, 8.15, 6.42, 5.73]\n",
    "x4 = [8, 8, 8, 8, 8, 8, 8, 19, 8, 8, 8]\n",
    "y4 = [6.58, 5.76, 7.71, 8.84, 8.47, 7.04, 5.25, 12.50, 5.56, 7.91, 6.89]\n",
    "\n",
    "# Calculate: \n",
    "# - mean, \n",
    "# - standard deviation, \n",
    "# - correlation coefficient (Pearson)\n",
    "# - variance ?"
   ]
  },
  {
   "cell_type": "code",
   "execution_count": 32,
   "id": "reflected-employer",
   "metadata": {},
   "outputs": [],
   "source": [
    "import numpy as np"
   ]
  },
  {
   "cell_type": "code",
   "execution_count": 33,
   "id": "female-break",
   "metadata": {},
   "outputs": [],
   "source": [
    "# Średnia"
   ]
  },
  {
   "cell_type": "code",
   "execution_count": 34,
   "id": "exotic-machinery",
   "metadata": {},
   "outputs": [
    {
     "data": {
      "text/plain": [
       "9.0"
      ]
     },
     "execution_count": 34,
     "metadata": {},
     "output_type": "execute_result"
    }
   ],
   "source": [
    "np.mean([10, 8, 13, 9, 11, 14, 6, 4, 12, 7, 5])"
   ]
  },
  {
   "cell_type": "code",
   "execution_count": 35,
   "id": "sustainable-provision",
   "metadata": {},
   "outputs": [
    {
     "data": {
      "text/plain": [
       "7.500909090909093"
      ]
     },
     "execution_count": 35,
     "metadata": {},
     "output_type": "execute_result"
    }
   ],
   "source": [
    "np.mean([8.04, 6.95, 7.58, 8.81, 8.33, 9.96, 7.24, 4.26, 10.84, 4.82, 5.68])"
   ]
  },
  {
   "cell_type": "code",
   "execution_count": 36,
   "id": "excited-sigma",
   "metadata": {},
   "outputs": [
    {
     "data": {
      "text/plain": [
       "7.50090909090909"
      ]
     },
     "execution_count": 36,
     "metadata": {},
     "output_type": "execute_result"
    }
   ],
   "source": [
    "np.mean([9.14, 8.14, 8.74, 8.77, 9.26, 8.10, 6.13, 3.10, 9.13, 7.26, 4.74])"
   ]
  },
  {
   "cell_type": "code",
   "execution_count": 37,
   "id": "sacred-strength",
   "metadata": {},
   "outputs": [
    {
     "data": {
      "text/plain": [
       "7.5"
      ]
     },
     "execution_count": 37,
     "metadata": {},
     "output_type": "execute_result"
    }
   ],
   "source": [
    "np.mean([7.46, 6.77, 12.74, 7.11, 7.81, 8.84, 6.08, 5.39, 8.15, 6.42, 5.73])"
   ]
  },
  {
   "cell_type": "code",
   "execution_count": 38,
   "id": "fuzzy-nickel",
   "metadata": {},
   "outputs": [
    {
     "data": {
      "text/plain": [
       "9.0"
      ]
     },
     "execution_count": 38,
     "metadata": {},
     "output_type": "execute_result"
    }
   ],
   "source": [
    "np.mean([8, 8, 8, 8, 8, 8, 8, 19, 8, 8, 8])"
   ]
  },
  {
   "cell_type": "code",
   "execution_count": 39,
   "id": "optional-adams",
   "metadata": {},
   "outputs": [
    {
     "data": {
      "text/plain": [
       "7.500909090909091"
      ]
     },
     "execution_count": 39,
     "metadata": {},
     "output_type": "execute_result"
    }
   ],
   "source": [
    "np.mean([6.58, 5.76, 7.71, 8.84, 8.47, 7.04, 5.25, 12.50, 5.56, 7.91, 6.89])"
   ]
  },
  {
   "cell_type": "code",
   "execution_count": 40,
   "id": "electrical-letter",
   "metadata": {},
   "outputs": [],
   "source": [
    "# Wariancja"
   ]
  },
  {
   "cell_type": "code",
   "execution_count": 41,
   "id": "intermediate-salon",
   "metadata": {},
   "outputs": [
    {
     "name": "stdout",
     "output_type": "stream",
     "text": [
      "10.0\n"
     ]
    }
   ],
   "source": [
    "print(np.var([10, 8, 13, 9, 11, 14, 6, 4, 12, 7, 5]))"
   ]
  },
  {
   "cell_type": "code",
   "execution_count": 42,
   "id": "disabled-pixel",
   "metadata": {},
   "outputs": [
    {
     "name": "stdout",
     "output_type": "stream",
     "text": [
      "3.7520628099173554\n"
     ]
    }
   ],
   "source": [
    "print(np.var([8.04, 6.95, 7.58, 8.81, 8.33, 9.96, 7.24, 4.26, 10.84, 4.82, 5.68]))"
   ]
  },
  {
   "cell_type": "code",
   "execution_count": 43,
   "id": "mathematical-owner",
   "metadata": {},
   "outputs": [
    {
     "name": "stdout",
     "output_type": "stream",
     "text": [
      "3.752390082644628\n"
     ]
    }
   ],
   "source": [
    "print(np.var([9.14, 8.14, 8.74, 8.77, 9.26, 8.10, 6.13, 3.10, 9.13, 7.26, 4.74]))"
   ]
  },
  {
   "cell_type": "code",
   "execution_count": 44,
   "id": "frank-rehabilitation",
   "metadata": {},
   "outputs": [
    {
     "name": "stdout",
     "output_type": "stream",
     "text": [
      "3.747836363636364\n"
     ]
    }
   ],
   "source": [
    "print(np.var([7.46, 6.77, 12.74, 7.11, 7.81, 8.84, 6.08, 5.39, 8.15, 6.42, 5.73]))"
   ]
  },
  {
   "cell_type": "code",
   "execution_count": 45,
   "id": "prime-genetics",
   "metadata": {},
   "outputs": [
    {
     "name": "stdout",
     "output_type": "stream",
     "text": [
      "10.0\n"
     ]
    }
   ],
   "source": [
    "print(np.var([8, 8, 8, 8, 8, 8, 8, 19, 8, 8, 8]))"
   ]
  },
  {
   "cell_type": "code",
   "execution_count": 46,
   "id": "certain-bahrain",
   "metadata": {},
   "outputs": [
    {
     "name": "stdout",
     "output_type": "stream",
     "text": [
      "3.7484082644628103\n"
     ]
    }
   ],
   "source": [
    "print(np.var([6.58, 5.76, 7.71, 8.84, 8.47, 7.04, 5.25, 12.50, 5.56, 7.91, 6.89]))"
   ]
  },
  {
   "cell_type": "code",
   "execution_count": 47,
   "id": "anticipated-virtue",
   "metadata": {},
   "outputs": [],
   "source": [
    "# Odchylenie standardowe"
   ]
  },
  {
   "cell_type": "code",
   "execution_count": 49,
   "id": "regular-jungle",
   "metadata": {},
   "outputs": [
    {
     "name": "stdout",
     "output_type": "stream",
     "text": [
      "Mean: 9.0\n",
      "Standard Deviation: 3.1622776601683795\n"
     ]
    }
   ],
   "source": [
    "print('Mean:', np.mean(x))\n",
    "print('Standard Deviation:', np.std(x))"
   ]
  },
  {
   "cell_type": "code",
   "execution_count": 50,
   "id": "choice-consideration",
   "metadata": {},
   "outputs": [
    {
     "name": "stdout",
     "output_type": "stream",
     "text": [
      "Mean: 7.500909090909093\n",
      "Standard Deviation: 1.93710869148962\n"
     ]
    }
   ],
   "source": [
    "print('Mean:', np.mean(y1))\n",
    "print('Standard Deviation:', np.std(y2))"
   ]
  },
  {
   "cell_type": "code",
   "execution_count": 51,
   "id": "intended-logan",
   "metadata": {},
   "outputs": [
    {
     "name": "stdout",
     "output_type": "stream",
     "text": [
      "Mean: 7.50090909090909\n",
      "Standard Deviation: 1.93710869148962\n"
     ]
    }
   ],
   "source": [
    "print('Mean:', np.mean(y2))\n",
    "print('Standard Deviation:', np.std(y2))"
   ]
  },
  {
   "cell_type": "code",
   "execution_count": 52,
   "id": "colonial-consultation",
   "metadata": {},
   "outputs": [
    {
     "name": "stdout",
     "output_type": "stream",
     "text": [
      "Mean: 7.5\n",
      "Standard Deviation: 1.9359329439927313\n"
     ]
    }
   ],
   "source": [
    "print('Mean:', np.mean(y3))\n",
    "print('Standard Deviation:', np.std(y3))"
   ]
  },
  {
   "cell_type": "code",
   "execution_count": 53,
   "id": "funny-secretary",
   "metadata": {},
   "outputs": [
    {
     "name": "stdout",
     "output_type": "stream",
     "text": [
      "Mean: 9.0\n",
      "Standard Deviation: 3.1622776601683795\n"
     ]
    }
   ],
   "source": [
    "print('Mean:', np.mean(x4))\n",
    "print('Standard Deviation:', np.std(x4))"
   ]
  },
  {
   "cell_type": "code",
   "execution_count": 54,
   "id": "outer-blocking",
   "metadata": {},
   "outputs": [
    {
     "name": "stdout",
     "output_type": "stream",
     "text": [
      "Mean: 7.500909090909091\n",
      "Standard Deviation: 1.9360806451340837\n"
     ]
    }
   ],
   "source": [
    "print('Mean:', np.mean(y4))\n",
    "print('Standard Deviation:', np.std(y4))"
   ]
  },
  {
   "cell_type": "code",
   "execution_count": null,
   "id": "amazing-tourism",
   "metadata": {},
   "outputs": [],
   "source": [
    "# Korelacja"
   ]
  },
  {
   "cell_type": "code",
   "execution_count": 57,
   "id": "balanced-sector",
   "metadata": {},
   "outputs": [
    {
     "name": "stdout",
     "output_type": "stream",
     "text": [
      "[[1.         0.81642052]\n",
      " [0.81642052 1.        ]]\n"
     ]
    }
   ],
   "source": [
    "korelacja = np.corrcoef(x, y1)\n",
    "\n",
    "print(korelacja)"
   ]
  },
  {
   "cell_type": "code",
   "execution_count": 58,
   "id": "utility-earth",
   "metadata": {},
   "outputs": [
    {
     "name": "stdout",
     "output_type": "stream",
     "text": [
      "[[1.         0.81623651]\n",
      " [0.81623651 1.        ]]\n"
     ]
    }
   ],
   "source": [
    "korelacja = np.corrcoef(x, y2)\n",
    "\n",
    "print(korelacja)"
   ]
  },
  {
   "cell_type": "code",
   "execution_count": 59,
   "id": "gorgeous-moment",
   "metadata": {},
   "outputs": [
    {
     "name": "stdout",
     "output_type": "stream",
     "text": [
      "[[1.         0.81623651]\n",
      " [0.81623651 1.        ]]\n"
     ]
    }
   ],
   "source": [
    "korelacja = np.corrcoef(x, y2)\n",
    "\n",
    "print(korelacja)"
   ]
  },
  {
   "cell_type": "code",
   "execution_count": 60,
   "id": "cathedral-grace",
   "metadata": {},
   "outputs": [
    {
     "name": "stdout",
     "output_type": "stream",
     "text": [
      "[[1.         0.81628674]\n",
      " [0.81628674 1.        ]]\n"
     ]
    }
   ],
   "source": [
    "korelacja = np.corrcoef(x, y3)\n",
    "\n",
    "print(korelacja)"
   ]
  },
  {
   "cell_type": "code",
   "execution_count": 61,
   "id": "german-jacket",
   "metadata": {},
   "outputs": [
    {
     "name": "stdout",
     "output_type": "stream",
     "text": [
      "[[ 1.         -0.31404671]\n",
      " [-0.31404671  1.        ]]\n"
     ]
    }
   ],
   "source": [
    "korelacja = np.corrcoef(x, y4)\n",
    "\n",
    "print(korelacja)"
   ]
  },
  {
   "cell_type": "code",
   "execution_count": 62,
   "id": "liked-football",
   "metadata": {},
   "outputs": [
    {
     "name": "stdout",
     "output_type": "stream",
     "text": [
      "[[ 1.  -0.5]\n",
      " [-0.5  1. ]]\n"
     ]
    }
   ],
   "source": [
    "korelacja = np.corrcoef(x, x4)\n",
    "\n",
    "print(korelacja)"
   ]
  },
  {
   "cell_type": "code",
   "execution_count": null,
   "id": "auburn-institution",
   "metadata": {},
   "outputs": [],
   "source": []
  }
 ],
 "metadata": {
  "kernelspec": {
   "display_name": "DataScience",
   "language": "python",
   "name": "datascience"
  },
  "language_info": {
   "codemirror_mode": {
    "name": "ipython",
    "version": 3
   },
   "file_extension": ".py",
   "mimetype": "text/x-python",
   "name": "python",
   "nbconvert_exporter": "python",
   "pygments_lexer": "ipython3",
   "version": "3.8.8"
  }
 },
 "nbformat": 4,
 "nbformat_minor": 5
}
